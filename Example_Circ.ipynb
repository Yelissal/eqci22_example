{
 "cells": [
  {
   "cell_type": "code",
   "execution_count": 3,
   "id": "3d7e8fd1-99e6-414e-992a-d42c59a4c1a1",
   "metadata": {},
   "outputs": [],
   "source": [
    "import numpy as np\n",
    "from qiskit import QuantumCircuit, Aer, execute\n",
    "from qiskit.visualization import plot_histogram\n"
   ]
  },
  {
   "cell_type": "code",
   "execution_count": 2,
   "id": "61d5abda-10a8-42e1-b457-c264407e8096",
   "metadata": {},
   "outputs": [
    {
     "data": {
      "text/html": [
       "<pre style=\"word-wrap: normal;white-space: pre;background: #fff0;line-height: 1.1;font-family: &quot;Courier New&quot;,Courier,monospace\">     ┌───┐┌─┐\n",
       "  q: ┤ H ├┤M├\n",
       "     └───┘└╥┘\n",
       "c: 1/══════╩═\n",
       "           0 </pre>"
      ],
      "text/plain": [
       "     ┌───┐┌─┐\n",
       "  q: ┤ H ├┤M├\n",
       "     └───┘└╥┘\n",
       "c: 1/══════╩═\n",
       "           0 "
      ]
     },
     "execution_count": 2,
     "metadata": {},
     "output_type": "execute_result"
    }
   ],
   "source": [
    "qc = QuantumCircuit(1,1)\n",
    "qc.h(0)\n",
    "qc.measure(0,0)\n",
    "qc.draw()"
   ]
  },
  {
   "cell_type": "code",
   "execution_count": 5,
   "id": "3b8fe027-532a-4947-8797-2edda3933439",
   "metadata": {},
   "outputs": [],
   "source": [
    "job = execute(qc, backend = Aer.get_backend(\"aer_simulator\"), shots = 1000)"
   ]
  },
  {
   "cell_type": "code",
   "execution_count": 6,
   "id": "352345f0-bf1b-4e74-895e-a7030d959b2f",
   "metadata": {},
   "outputs": [],
   "source": [
    "results = job.result()"
   ]
  },
  {
   "cell_type": "code",
   "execution_count": 7,
   "id": "1089139e-5019-4d78-968a-52cd32ca67f5",
   "metadata": {},
   "outputs": [],
   "source": [
    "counts = results.get_counts()"
   ]
  },
  {
   "cell_type": "code",
   "execution_count": null,
   "id": "10002f6a-f21a-42fa-ba8b-4de0f23ed634",
   "metadata": {},
   "outputs": [],
   "source": []
  }
 ],
 "metadata": {
  "kernelspec": {
   "display_name": "Python 3 (ipykernel)",
   "language": "python",
   "name": "python3"
  },
  "language_info": {
   "codemirror_mode": {
    "name": "ipython",
    "version": 3
   },
   "file_extension": ".py",
   "mimetype": "text/x-python",
   "name": "python",
   "nbconvert_exporter": "python",
   "pygments_lexer": "ipython3",
   "version": "3.9.7"
  }
 },
 "nbformat": 4,
 "nbformat_minor": 5
}
